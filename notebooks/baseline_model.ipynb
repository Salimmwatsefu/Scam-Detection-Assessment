{
 "cells": [
  {
   "cell_type": "markdown",
   "metadata": {},
   "source": [
    "# Baseline Model: TF-IDF + Logistic Regression\n",
    "\n",
    "This notebook implements a baseline model for Swahili SMS scam detection using TF-IDF vectorization and Logistic Regression, optimized for class imbalance as part of the Model Development section (3 Marks). The steps include data loading, vectorization, model training, hyperparameter tuning, and evaluation with F1-score and confusion matrix."
   ]
  },
  {
   "cell_type": "code",
   "execution_count": 3,
   "metadata": {},
   "outputs": [
    {
     "name": "stdout",
     "output_type": "stream",
     "text": [
      "Preprocessed data sample:\n",
      "  Category                                        cleaned_sms\n",
      "0    trust                   nipigie baada saa moja tafadhali\n",
      "1     scam  naomba unitumie iyo hela kwenye namba airtel j...\n",
      "2     scam  karibu freemason utimize ndoto biashara kilimo...\n",
      "3    trust               watoto wanapenda zawadi ulizowaletea\n",
      "4     scam  iyo pesa itume kwenye namba jina italeta magom...\n"
     ]
    }
   ],
   "source": [
    "import pandas as pd\n",
    "from sklearn.feature_extraction.text import TfidfVectorizer\n",
    "from sklearn.linear_model import LogisticRegression\n",
    "from sklearn.model_selection import train_test_split, GridSearchCV\n",
    "from sklearn.metrics import f1_score, confusion_matrix\n",
    "import matplotlib.pyplot as plt\n",
    "import seaborn as sns\n",
    "\n",
    "# Load preprocessed data\n",
    "data = pd.read_csv('../data/processed_bongo_scam.csv')\n",
    "print(\"Preprocessed data sample:\")\n",
    "print(data[['Category', 'cleaned_sms']].head())"
   ]
  },
  {
   "cell_type": "code",
   "execution_count": 4,
   "metadata": {},
   "outputs": [],
   "source": [
    "# Split data\n",
    "X = data['cleaned_sms']\n",
    "y = data['Category'].map({'trust': 0, 'scam': 1})\n",
    "X_train, X_test, y_train, y_test = train_test_split(X, y, test_size=0.2, random_state=42)"
   ]
  },
  {
   "cell_type": "code",
   "execution_count": 5,
   "metadata": {},
   "outputs": [],
   "source": [
    "# TF-IDF Vectorization\n",
    "tfidf = TfidfVectorizer(max_features=5000)\n",
    "X_train_tfidf = tfidf.fit_transform(X_train)\n",
    "X_test_tfidf = tfidf.transform(X_test)"
   ]
  },
  {
   "cell_type": "code",
   "execution_count": 6,
   "metadata": {},
   "outputs": [
    {
     "name": "stdout",
     "output_type": "stream",
     "text": [
      "Initial F1-Score: 1.0000\n"
     ]
    }
   ],
   "source": [
    "# Baseline Logistic Regression\n",
    "lr = LogisticRegression(class_weight='balanced', max_iter=1000)\n",
    "lr.fit(X_train_tfidf, y_train)\n",
    "y_pred = lr.predict(X_test_tfidf)\n",
    "\n",
    "# Initial evaluation\n",
    "f1 = f1_score(y_test, y_pred)\n",
    "print(f'Initial F1-Score: {f1:.4f}')"
   ]
  },
  {
   "cell_type": "code",
   "execution_count": 7,
   "metadata": {},
   "outputs": [
    {
     "name": "stdout",
     "output_type": "stream",
     "text": [
      "Best C: 10\n"
     ]
    }
   ],
   "source": [
    "# Hyperparameter optimization\n",
    "param_grid = {'C': [0.01, 0.1, 1, 10, 100]}\n",
    "grid = GridSearchCV(LogisticRegression(class_weight='balanced', max_iter=1000), param_grid, cv=5, scoring='f1')\n",
    "grid.fit(X_train_tfidf, y_train)\n",
    "best_lr = grid.best_estimator_\n",
    "print(f'Best C: {grid.best_params_[\"C\"]}')"
   ]
  },
  {
   "cell_type": "code",
   "execution_count": 8,
   "metadata": {},
   "outputs": [
    {
     "name": "stdout",
     "output_type": "stream",
     "text": [
      "Optimized F1-Score: 1.0000\n"
     ]
    },
    {
     "data": {
      "image/png": "[encoded data removed]",
      "text/plain": [
       "<Figure size 600x400 with 2 Axes>"
      ]
     },
     "metadata": {},
     "output_type": "display_data"
    }
   ],
   "source": [
    "# Final evaluation\n",
    "y_pred_best = best_lr.predict(X_test_tfidf)\n",
    "f1_best = f1_score(y_test, y_pred_best)\n",
    "print(f'Optimized F1-Score: {f1_best:.4f}')\n",
    "\n",
    "# Confusion Matrix\n",
    "cm = confusion_matrix(y_test, y_pred_best)\n",
    "plt.figure(figsize=(6, 4))\n",
    "sns.heatmap(cm, annot=True, fmt='d', cmap='Blues', xticklabels=['trust', 'scam'], yticklabels=['trust', 'scam'])\n",
    "plt.title('Confusion Matrix - Baseline Model')\n",
    "plt.xlabel('Predicted')\n",
    "plt.ylabel('Actual')\n",
    "plt.savefig('../reports/visualizations/baseline_confusion_matrix.png')\n",
    "plt.show()"
   ]
  }
 ],
 "metadata": {
  "kernelspec": {
   "display_name": "venv",
   "language": "python",
   "name": "python3"
  },
  "language_info": {
   "codemirror_mode": {
    "name": "ipython",
    "version": 3
   },
   "file_extension": ".py",
   "mimetype": "text/x-python",
   "name": "python",
   "nbconvert_exporter": "python",
   "pygments_lexer": "ipython3",
   "version": "3.12.3"
  }
 },
 "nbformat": 4,
 "nbformat_minor": 2
}
